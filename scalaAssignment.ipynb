{
 "cells": [
  {
   "cell_type": "code",
   "execution_count": 1,
   "id": "ee382229-ad64-423e-85b7-530f3c8ef4f9",
   "metadata": {},
   "outputs": [
    {
     "data": {
      "text/plain": [
       "Intitializing Scala interpreter ..."
      ]
     },
     "metadata": {},
     "output_type": "display_data"
    },
    {
     "data": {
      "text/plain": [
       "Spark Web UI available at http://172.19.48.221:4040\n",
       "SparkContext available as 'sc' (version = 3.5.2, master = local[*], app id = local-1725855279592)\n",
       "SparkSession available as 'spark'\n"
      ]
     },
     "metadata": {},
     "output_type": "display_data"
    },
    {
     "data": {
      "text/plain": [
       "numbers: Array[Int] = Array(1, 2, 3, 4, 5, 6, 7, 8, 9, 10)\r\n"
      ]
     },
     "execution_count": 1,
     "metadata": {},
     "output_type": "execute_result"
    }
   ],
   "source": [
    "val numbers = Array(1, 2, 3, 4, 5, 6, 7, 8, 9, 10)"
   ]
  },
  {
   "cell_type": "code",
   "execution_count": 2,
   "id": "d216eae9-e0fb-4bb5-9513-6cec2384e4da",
   "metadata": {},
   "outputs": [
    {
     "name": "stdout",
     "output_type": "stream",
     "text": [
      "Sum of all elements: 55\n"
     ]
    },
    {
     "data": {
      "text/plain": [
       "sum: Int = 55\r\n"
      ]
     },
     "execution_count": 2,
     "metadata": {},
     "output_type": "execute_result"
    }
   ],
   "source": [
    "val sum = numbers.sum\n",
    "    println(\"Sum of all elements: \" + sum)"
   ]
  },
  {
   "cell_type": "code",
   "execution_count": 3,
   "id": "c68f82e3-6011-4b0a-82e9-5e5db02a334e",
   "metadata": {},
   "outputs": [
    {
     "name": "stdout",
     "output_type": "stream",
     "text": [
      "Average of all elements: 5.5\n"
     ]
    },
    {
     "data": {
      "text/plain": [
       "average: Double = 5.5\r\n"
      ]
     },
     "execution_count": 3,
     "metadata": {},
     "output_type": "execute_result"
    }
   ],
   "source": [
    "val average = sum / numbers.length.toDouble\n",
    "    println(\"Average of all elements: \" + average)"
   ]
  },
  {
   "cell_type": "code",
   "execution_count": 4,
   "id": "ae952f9d-a94f-4c56-b912-b43547f141cc",
   "metadata": {},
   "outputs": [
    {
     "data": {
      "text/plain": [
       "multipliedNumbers: Array[Int] = Array(2, 4, 6, 8, 10, 12, 14, 16, 18, 20)\r\n"
      ]
     },
     "execution_count": 4,
     "metadata": {},
     "output_type": "execute_result"
    }
   ],
   "source": [
    "val multipliedNumbers = numbers.map(_ * 2)"
   ]
  },
  {
   "cell_type": "code",
   "execution_count": 9,
   "id": "5d91d47f-1767-42f4-b5e0-f07a4b6170d3",
   "metadata": {},
   "outputs": [
    {
     "data": {
      "text/plain": [
       "reversedNumbers: Array[Int] = Array(10, 9, 8, 7, 6, 5, 4, 3, 2, 1)\r\n"
      ]
     },
     "execution_count": 9,
     "metadata": {},
     "output_type": "execute_result"
    }
   ],
   "source": [
    "/*2. Array Manipulation:*/\n",
    "val reversedNumbers = numbers.reverseIterator.toArray"
   ]
  },
  {
   "cell_type": "code",
   "execution_count": 10,
   "id": "e0ff336b-d697-4323-a80e-1183d167ccd9",
   "metadata": {},
   "outputs": [
    {
     "data": {
      "text/plain": [
       "maxElement: Int = 10\r\n",
       "minElement: Int = 1\r\n"
      ]
     },
     "execution_count": 10,
     "metadata": {},
     "output_type": "execute_result"
    }
   ],
   "source": [
    "val maxElement = numbers.reduce((a, b) => if (a > b) a else b)\n",
    "val minElement = numbers.reduce((a, b) => if (a < b) a else b)"
   ]
  },
  {
   "cell_type": "code",
   "execution_count": 13,
   "id": "2b2e8246-3e38-496a-9926-c8ec407e7050",
   "metadata": {},
   "outputs": [
    {
     "data": {
      "text/plain": [
       "numbers: List[Int] = List(1, 2, 3, 4, 5, 6, 7, 8, 9, 10)\r\n"
      ]
     },
     "execution_count": 13,
     "metadata": {},
     "output_type": "execute_result"
    }
   ],
   "source": [
    "/*Collections\n",
    "1. Lists:*/\n",
    "val numbers = List.range(1, 11)"
   ]
  },
  {
   "cell_type": "code",
   "execution_count": 14,
   "id": "e8211c3e-2a6b-4253-a38f-6e85f40836ea",
   "metadata": {},
   "outputs": [
    {
     "data": {
      "text/plain": [
       "evenNumbers: List[Int] = List(2, 4, 6, 8, 10)\r\n",
       "sumOfEvenNumbers: Int = 30\r\n"
      ]
     },
     "execution_count": 14,
     "metadata": {},
     "output_type": "execute_result"
    }
   ],
   "source": [
    "val evenNumbers = numbers.filter(_ % 2 == 0)\n",
    "val sumOfEvenNumbers = evenNumbers.sum"
   ]
  },
  {
   "cell_type": "code",
   "execution_count": 15,
   "id": "ce2f5602-e6bd-45d3-9f48-c59398888c3a",
   "metadata": {},
   "outputs": [
    {
     "name": "stdout",
     "output_type": "stream",
     "text": [
      "Stack size: 3\n",
      "Top element: 3\n"
     ]
    },
    {
     "data": {
      "text/plain": [
       "stack: scala.collection.mutable.Stack[Int] = Stack(2, 1)\r\n",
       "poppedElement: Int = 3\r\n",
       "topElement: Int = 2\r\n"
      ]
     },
     "execution_count": 15,
     "metadata": {},
     "output_type": "execute_result"
    }
   ],
   "source": [
    "/*2. Implement a generic stack data structure using Scala collections (like `List`) and provide\n",
    "basic push, pop, and peek functionalities.*/\n",
    "val stack = new scala.collection.mutable.Stack[Int]\n",
    "\n",
    "stack.push(1)\n",
    "stack.push(2)\n",
    "stack.push(3)\n",
    "\n",
    "println(\"Stack size: \" + stack.size)\n",
    "\n",
    "println(s\"Top element: ${stack.head}\")\n",
    "\n",
    "val poppedElement = stack.pop()\n",
    "\n",
    "val topElement = stack.top"
   ]
  },
  {
   "cell_type": "code",
   "execution_count": 16,
   "id": "5d4742ab-b662-4fb5-a880-9e93a1b7b812",
   "metadata": {},
   "outputs": [
    {
     "name": "stdout",
     "output_type": "stream",
     "text": [
      "Stack size after pushing: 3\n",
      "Top element (peek): 30\n",
      "Popped element: 30\n",
      "Stack size after popping: 2\n",
      "Top element (peek): 20\n"
     ]
    },
    {
     "data": {
      "text/plain": [
       "defined class Stack\r\n",
       "defined object StackExample\r\n"
      ]
     },
     "execution_count": 16,
     "metadata": {},
     "output_type": "execute_result"
    }
   ],
   "source": [
    "class Stack[A] {\n",
    "  private var elements: List[A] = Nil\n",
    "\n",
    "  // Push element onto the stack\n",
    "  def push(item: A): Unit = {\n",
    "    elements = item :: elements\n",
    "  }\n",
    "\n",
    "  // Pop element from the stack\n",
    "  def pop(): Option[A] = {\n",
    "    elements match {\n",
    "      case Nil => None\n",
    "      case head :: tail =>\n",
    "        elements = tail\n",
    "        Some(head)\n",
    "    }\n",
    "  }\n",
    "\n",
    "  // Peek the top element of the stack without removing it\n",
    "  def peek(): Option[A] = {\n",
    "    elements match {\n",
    "      case Nil => None\n",
    "      case head :: _ => Some(head)\n",
    "    }\n",
    "  }\n",
    "\n",
    "  // Check if the stack is empty\n",
    "  def isEmpty: Boolean = elements.isEmpty\n",
    "\n",
    "  // Size of the stack\n",
    "  def size: Int = elements.size\n",
    "}\n",
    "\n",
    "// Example usage\n",
    "object StackExample {\n",
    "  def main(args: Array[String]): Unit = {\n",
    "    val stack = new Stack[Int]\n",
    "\n",
    "    // Pushing elements onto the stack\n",
    "    stack.push(10)\n",
    "    stack.push(20)\n",
    "    stack.push(30)\n",
    "    println(\"Stack size after pushing: \" + stack.size)\n",
    "\n",
    "    // Peek the top element\n",
    "    println(\"Top element (peek): \" + stack.peek().getOrElse(\"Stack is empty\"))\n",
    "\n",
    "    // Pop elements from the stack\n",
    "    println(\"Popped element: \" + stack.pop().getOrElse(\"Stack is empty\"))\n",
    "    println(\"Stack size after popping: \" + stack.size)\n",
    "\n",
    "    // Peek again after popping\n",
    "    println(\"Top element (peek): \" + stack.peek().getOrElse(\"Stack is empty\"))\n",
    "  }\n",
    "}\n",
    "\n",
    "// Run the program\n",
    "StackExample.main(Array())"
   ]
  },
  {
   "cell_type": "code",
   "execution_count": 17,
   "id": "57ac3b18-f2d5-494f-b52a-06b80f5602b7",
   "metadata": {},
   "outputs": [
    {
     "name": "stdout",
     "output_type": "stream",
     "text": [
      "The capital of Germany is Berlin.\n",
      "Country Brazil not found in the map.\n"
     ]
    },
    {
     "data": {
      "text/plain": [
       "countryCapitalMap: Map[String,String] = Map(USA -> Washington, D.C., Japan -> Tokyo, Canada -> Ottawa, France -> Paris, Germany -> Berlin)\r\n",
       "printCapital: (country: String)Unit\r\n"
      ]
     },
     "execution_count": 17,
     "metadata": {},
     "output_type": "execute_result"
    }
   ],
   "source": [
    "// creating map\n",
    "/*Create a Map to store 5 country-capital pairs.*/\n",
    "val countryCapitalMap: Map[String, String] = Map(\n",
    "  \"USA\" -> \"Washington, D.C.\",\n",
    "  \"France\" -> \"Paris\",\n",
    "  \"Germany\" -> \"Berlin\",\n",
    "  \"Japan\" -> \"Tokyo\",\n",
    "  \"Canada\" -> \"Ottawa\"\n",
    ")\n",
    "// Checking and Printing Capital\n",
    "def printCapital(country: String): Unit = {\n",
    "  countryCapitalMap.get(country) match {\n",
    "    case Some(capital) => println(s\"The capital of $country is $capital.\")\n",
    "    case None => println(s\"Country $country not found in the map.\")\n",
    "  }\n",
    "}\n",
    "printCapital(\"Germany\")  // Output: The capital of Germany is Berlin.\n",
    "printCapital(\"Brazil\")   // Output: Country Brazil not found in the map"
   ]
  },
  {
   "cell_type": "code",
   "execution_count": 18,
   "id": "5aacfee2-2f2f-4b9b-afef-4906742459b8",
   "metadata": {},
   "outputs": [
    {
     "name": "stdout",
     "output_type": "stream",
     "text": [
      "Circle Area: 78.53981633974483\n",
      "Circle Perimeter: 31.41592653589793\n",
      "Rectangle Area: 24.0\n",
      "Rectangle Perimeter: 20.0\n"
     ]
    },
    {
     "data": {
      "text/plain": [
       "defined trait Shape\r\n",
       "defined class Circle\r\n",
       "defined class Rectangle\r\n",
       "circle: Circle = Circle(5.0)\r\n",
       "rectangle: Rectangle = Rectangle(4.0,6.0)\r\n"
      ]
     },
     "execution_count": 18,
     "metadata": {},
     "output_type": "execute_result"
    }
   ],
   "source": [
    "// Define the Shape trait\n",
    "trait Shape {\n",
    "  def area(): Double\n",
    "  def perimeter(): Double\n",
    " }\n",
    "\n",
    "// Create the Circle class that implements the Shape trait\n",
    "case class Circle(radius: Double) extends Shape {\n",
    "  override def area(): Double = math.Pi * radius * radius\n",
    "  override def perimeter(): Double = 2 * math.Pi * radius\n",
    "}\n",
    "\n",
    "// Create the Rectangle class that implements the Shape trait\n",
    "case class Rectangle(width: Double, height: Double) extends Shape {\n",
    "  override def area(): Double = width * height\n",
    "  override def perimeter(): Double = 2 * (width + height)\n",
    "}\n",
    "\n",
    "// Example usage:\n",
    "val circle = Circle(5.0)\n",
    "val rectangle = Rectangle(4.0, 6.0)\n",
    "\n",
    "println(\"Circle Area: \" + circle.area())\n",
    "println(\"Circle Perimeter: \" + circle.perimeter())\n",
    "println(\"Rectangle Area: \" + rectangle.area())\n",
    "println(\"Rectangle Perimeter: \" + rectangle.perimeter())"
   ]
  },
  {
   "cell_type": "code",
   "execution_count": 19,
   "id": "f4b55619-9ecf-4d28-9cf8-39a516535dfe",
   "metadata": {},
   "outputs": [
    {
     "name": "stdout",
     "output_type": "stream",
     "text": [
      "Circle area: 78.53981633974483\n",
      "Circle perimeter: 31.41592653589793\n",
      "Rectangle area: 24.0\n",
      "Rectangle perimeter: 20.0\n"
     ]
    },
    {
     "data": {
      "text/plain": [
       "circle: Circle = Circle(5.0)\r\n",
       "rectangle: Rectangle = Rectangle(4.0,6.0)\r\n"
      ]
     },
     "execution_count": 19,
     "metadata": {},
     "output_type": "execute_result"
    }
   ],
   "source": [
    "val circle = new Circle(5.0)\n",
    "println(s\"Circle area: ${circle.area()}\")\n",
    "println(s\"Circle perimeter: ${circle.perimeter()}\")\n",
    "\n",
    "val rectangle = new Rectangle(4.0, 6.0)\n",
    "println(s\"Rectangle area: ${rectangle.area()}\")\n",
    "println(s\"Rectangle perimeter: ${rectangle.perimeter()}\")"
   ]
  },
  {
   "cell_type": "code",
   "execution_count": 20,
   "id": "67b0a2bd-9384-4810-b265-2ba317a6c006",
   "metadata": {},
   "outputs": [
    {
     "data": {
      "text/plain": [
       "defined class Animal\r\n",
       "defined class Dog\r\n",
       "defined class Bird\r\n",
       "defined object InheritanceDemo\r\n"
      ]
     },
     "execution_count": 20,
     "metadata": {},
     "output_type": "execute_result"
    }
   ],
   "source": [
    "// Base class Animal\n",
    "class Animal {\n",
    "  // Method to be overridden\n",
    "  def speak(): Unit = {\n",
    "    println(\"Animal sound\")\n",
    "  }\n",
    "\n",
    "  def move(): Unit = {\n",
    "    println(\"Animal moves\")\n",
    "  }\n",
    "}\n",
    "\n",
    "// Subclass Dog inheriting from Animal\n",
    "class Dog extends Animal {\n",
    "  // Override speak method\n",
    "  override def speak(): Unit = {\n",
    "    println(\"Dog barks\")\n",
    "  }\n",
    "\n",
    "  // Override move method\n",
    "  override def move(): Unit = {\n",
    "    println(\"Dog runs\")\n",
    "  }\n",
    "}\n",
    "\n",
    "// Subclass Bird inheriting from Animal\n",
    "class Bird extends Animal {\n",
    "  // Override speak method\n",
    "  override def speak(): Unit = {\n",
    "    println(\"Bird chirps\")\n",
    "  }\n",
    "\n",
    "  // Override move method\n",
    "  override def move(): Unit = {\n",
    "    println(\"Bird flies\")\n",
    "  }\n",
    "}\n",
    "\n",
    "object InheritanceDemo extends App {\n",
    "  // Create instances of Dog and Bird\n",
    "  val dog = new Dog\n",
    "  val bird = new Bird\n",
    "\n",
    "  // Call their methods\n",
    "  println(\"Dog behavior:\")\n",
    "  dog.speak()  // Output: Dog barks\n",
    "  dog.move()   // Output: Dog runs\n",
    "\n",
    "  println(\"\\nBird behavior:\")\n",
    "  bird.speak() // Output: Bird chirps\n",
    "  bird.move()  // Output: Bird flies\n",
    "}\n"
   ]
  },
  {
   "cell_type": "code",
   "execution_count": 22,
   "id": "2599b4c7-73b0-4dfe-9463-e03b95b79876",
   "metadata": {},
   "outputs": [
    {
     "data": {
      "text/plain": [
       "defined class BankAccount\r\n"
      ]
     },
     "execution_count": 22,
     "metadata": {},
     "output_type": "execute_result"
    }
   ],
   "source": [
    "\n",
    "class BankAccount(private var accountNumber: String, private var balance: Double) {\n",
    "  \n",
    "\n",
    "  def deposit(amount: Double): Unit = {\n",
    "    if (amount > 0) {\n",
    "      balance += amount\n",
    "      println(s\"Deposited $$${amount}. New balance: $$${balance}\")\n",
    "    } else {\n",
    "      println(\"Deposit amount must be positive.\")\n",
    "    }\n",
    "  }\n",
    "\n",
    "\n",
    "  def withdraw(amount: Double): Unit = {\n",
    "    if (amount > 0 && amount <= balance) {\n",
    "      balance -= amount\n",
    "      println(s\"Withdrew $$${amount}. New balance: $$${balance}\")\n",
    "    } else if (amount > balance) {\n",
    "      println(\"Insufficient balance.\")\n",
    "    } else {\n",
    "      println(\"Withdrawal amount must be positive.\")\n",
    "    }\n",
    "  }\n",
    "\n",
    "  // Method to display the current balance\n",
    "  def displayBalance(): Unit = {\n",
    "    println(s\"Current balance: $$${balance}\")\n",
    "  }\n",
    "}\n",
    "\n",
    "\n"
   ]
  },
  {
   "cell_type": "code",
   "execution_count": 23,
   "id": "f91a3499-839e-4cd3-8be1-098b950a0fd5",
   "metadata": {},
   "outputs": [
    {
     "data": {
      "text/plain": [
       "defined object BankApp\r\n"
      ]
     },
     "execution_count": 23,
     "metadata": {},
     "output_type": "execute_result"
    }
   ],
   "source": [
    "object BankApp extends App {\n",
    "  // Create a new bank account\n",
    "  val account = new BankAccount(\"123456\", 500.0)\n",
    "\n",
    "  // Perform some operations\n",
    "  account.displayBalance()  // Output: Current balance: $500.0\n",
    "  account.deposit(200.0)    // Output: Deposited $200. New balance: $700.0\n",
    "  account.withdraw(100.0)   // Output: Withdrew $100. New balance: $600.0\n",
    "  account.withdraw(800.0)   // Output: Insufficient balance.\n",
    "  account.displayBalance()  // Output: Current balance: $600.0\n",
    "}"
   ]
  },
  {
   "cell_type": "code",
   "execution_count": 24,
   "id": "83ba2820-6d52-4bcb-a273-11253b0e94a3",
   "metadata": {},
   "outputs": [
    {
     "data": {
      "text/plain": [
       "defined object BankApp\r\n"
      ]
     },
     "execution_count": 24,
     "metadata": {},
     "output_type": "execute_result"
    }
   ],
   "source": [
    "object BankApp extends App {\n",
    "  val account = new BankAccount(\"123456\", 500.0)\n",
    "\n",
    "  account.displayBalance()  // Output: Current balance: $500.0\n",
    "  account.deposit(200.0)    // Output: Deposited $200. New balance: $700.0\n",
    "  account.withdraw(100.0)   // Output: Withdrew $100. New balance: $600.0\n",
    "  account.withdraw(800.0)   // Output: Insufficient balance.\n",
    "  account.displayBalance()  // Output: Current balance: $600.0\n",
    "}\n"
   ]
  },
  {
   "cell_type": "code",
   "execution_count": 26,
   "id": "3665ca41-46c1-426e-a9e1-122e7b15534b",
   "metadata": {},
   "outputs": [
    {
     "data": {
      "text/plain": [
       "defined object InheritanceDemo\r\n"
      ]
     },
     "execution_count": 26,
     "metadata": {},
     "output_type": "execute_result"
    }
   ],
   "source": [
    "object InheritanceDemo extends App {\n",
    "  val dog = new Dog\n",
    "  val bird = new Bird\n",
    "\n",
    "  println(\"Dog behavior:\")\n",
    "  dog.speak()  \n",
    "  dog.move()   \n",
    "\n",
    "  println(\"\\nBird behavior:\")\n",
    "  bird.speak() \n",
    "  bird.move()  \n",
    "}\n"
   ]
  },
  {
   "cell_type": "code",
   "execution_count": 27,
   "id": "ee31e9a2-fb89-41af-842e-93998d908b34",
   "metadata": {},
   "outputs": [
    {
     "name": "stdout",
     "output_type": "stream",
     "text": [
      "Dog says: Woof!\n",
      "Dog is running.\n",
      "Bird says: Chirp!\n",
      "Bird is flying.\n"
     ]
    },
    {
     "data": {
      "text/plain": [
       "defined class Animal\r\n",
       "defined class Dog\r\n",
       "defined class Bird\r\n",
       "dogInstance: Dog = Dog@5f8896bf\r\n",
       "birdInstance: Bird = Bird@2f74eac6\r\n"
      ]
     },
     "execution_count": 27,
     "metadata": {},
     "output_type": "execute_result"
    }
   ],
   "source": [
    "// Define the base class Animal\n",
    "class Animal {\n",
    "  def speak(): Unit = {\n",
    "    println(\"Animal makes a sound\")\n",
    "  }\n",
    "\n",
    "  def move(): Unit = {\n",
    "    println(\"Animal moves\")\n",
    "  }\n",
    "}\n",
    "\n",
    "// Define the Dog class that extends Animal\n",
    "class Dog extends Animal {\n",
    "  override def speak(): Unit = {\n",
    "    println(\"Dog says: Woof!\")\n",
    "  }\n",
    "\n",
    "  override def move(): Unit = {\n",
    "    println(\"Dog is running.\")\n",
    "  }\n",
    "}\n",
    "\n",
    "// Define the Bird class that extends Animal\n",
    "class Bird extends Animal {\n",
    "  override def speak(): Unit = {\n",
    "    println(\"Bird says: Chirp!\")\n",
    "  }\n",
    "\n",
    "  override def move(): Unit = {\n",
    "    println(\"Bird is flying.\")\n",
    "  }\n",
    "}\n",
    "\n",
    "// Create instances of Dog and Bird\n",
    "val dogInstance = new Dog()\n",
    "val birdInstance = new Bird()\n",
    "\n",
    "// Call their speak() and move() methods\n",
    "dogInstance.speak()\n",
    "dogInstance.move()\n",
    "\n",
    "birdInstance.speak()\n",
    "birdInstance.move()"
   ]
  },
  {
   "cell_type": "code",
   "execution_count": 28,
   "id": "32bbddbc-3a66-45a5-83c4-a4928cb7aa38",
   "metadata": {},
   "outputs": [
    {
     "name": "stdout",
     "output_type": "stream",
     "text": [
      "Dog says: Woof!\n",
      "Dog is running.\n",
      "Bird says: Chirp!\n",
      "Bird is flying.\n"
     ]
    },
    {
     "data": {
      "text/plain": [
       "defined class Animal\r\n",
       "defined class Dog\r\n",
       "defined class Bird\r\n",
       "dogInstance: Dog = Dog@3ad32e2d\r\n",
       "birdInstance: Bird = Bird@6a73563b\r\n"
      ]
     },
     "execution_count": 28,
     "metadata": {},
     "output_type": "execute_result"
    }
   ],
   "source": [
    "// Define the base class Animal\n",
    "class Animal {\n",
    "  def speak(): Unit = {\n",
    "    println(\"Animal makes a sound\")\n",
    "  }\n",
    "\n",
    "  def move(): Unit = {\n",
    "    println(\"Animal moves\")\n",
    "  }\n",
    "}\n",
    "\n",
    "// Define the Dog class that extends Animal\n",
    "class Dog extends Animal {\n",
    "  override def speak(): Unit = {\n",
    "    println(\"Dog says: Woof!\")\n",
    "  }\n",
    "\n",
    "  override def move(): Unit = {\n",
    "    println(\"Dog is running.\")\n",
    "  }\n",
    "}\n",
    "\n",
    "// Define the Bird class that extends Animal\n",
    "class Bird extends Animal {\n",
    "  override def speak(): Unit = {\n",
    "    println(\"Bird says: Chirp!\")\n",
    "  }\n",
    "\n",
    "  override def move(): Unit = {\n",
    "    println(\"Bird is flying.\")\n",
    "  }\n",
    "}\n",
    "\n",
    "// Create instances of Dog and Bird\n",
    "val dogInstance = new Dog()\n",
    "val birdInstance = new Bird()\n",
    "\n",
    "// Call their speak() and move() methods\n",
    "dogInstance.speak()\n",
    "dogInstance.move()\n",
    "\n",
    "birdInstance.speak()\n",
    "birdInstance.move()"
   ]
  },
  {
   "cell_type": "code",
   "execution_count": 29,
   "id": "6711553f-486f-475e-a406-f767f0fc9b92",
   "metadata": {},
   "outputs": [
    {
     "data": {
      "text/plain": [
       "defined class BankAccount\r\n"
      ]
     },
     "execution_count": 29,
     "metadata": {},
     "output_type": "execute_result"
    }
   ],
   "source": [
    "class BankAccount {\n",
    "  private var accountNumber: Long = _\n",
    "  private var balance: Double = _\n",
    "\n",
    "  def setAccountNumber(number: Long): Unit = {\n",
    "    accountNumber = number\n",
    "  }\n",
    "\n",
    "  def getAccountNumber(): Long = {\n",
    "    accountNumber\n",
    "  }\n",
    "\n",
    "  def setBalance(amount: Double): Unit = {\n",
    "    if (amount >= 0) {\n",
    "      balance = amount\n",
    "    } else {\n",
    "      println(\"Invalid balance. Must be non-negative.\")\n",
    "    }\n",
    "  }\n",
    "\n",
    "  def getBalance(): Double = {\n",
    "    balance\n",
    "  }\n",
    "\n",
    "  def deposit(amount: Double): Unit = {\n",
    "    if (amount > 0) {\n",
    "      balance += amount\n",
    "      println(s\"Deposited $amount. New balance: $balance\")\n",
    "    } else {\n",
    "      println(\"Invalid deposit amount. Must be positive.\")\n",
    "    }\n",
    "  }\n",
    "\n",
    "  def withdraw(amount: Double): Unit = {\n",
    "    if (amount > 0 && amount <= balance) {\n",
    "      balance -= amount\n",
    "      println(s\"Withdrew $amount. New balance: $balance\")\n",
    "    } else if (amount > balance) {\n",
    "      println(\"Insufficient funds.\")\n",
    "    } else {\n",
    "      println(\"Invalid withdrawal amount. Must be positive.\")\n",
    "    }\n",
    "  }\n",
    "\n",
    "  def displayBalance(): Unit = {\n",
    "    println(s\"Your current balance is: $balance\")\n",
    "  }\n",
    "}"
   ]
  },
  {
   "cell_type": "code",
   "execution_count": 31,
   "id": "e0d43dd0-1cec-41d4-8eda-89365aeda6ea",
   "metadata": {},
   "outputs": [
    {
     "name": "stdout",
     "output_type": "stream",
     "text": [
      "Deposited 5000.0. New balance: 15000.0\n",
      "Withdrew 2000.0. New balance: 13000.0\n",
      "Your current balance is: 13000.0\n"
     ]
    },
    {
     "data": {
      "text/plain": [
       "account: BankAccount = BankAccount@3b0c3803\r\n"
      ]
     },
     "execution_count": 31,
     "metadata": {},
     "output_type": "execute_result"
    }
   ],
   "source": [
    "val account = new BankAccount()\n",
    "account.setAccountNumber(1234567890)\n",
    "account.setBalance(10000.0)\n",
    "account.deposit(5000.0)\n",
    "account.withdraw(2000.0)\n",
    "account.displayBalance()"
   ]
  },
  {
   "cell_type": "code",
   "execution_count": null,
   "id": "12d28e8f-36ce-495c-819a-c515d2f7cae5",
   "metadata": {},
   "outputs": [],
   "source": []
  }
 ],
 "metadata": {
  "kernelspec": {
   "display_name": "spylon-kernel",
   "language": "scala",
   "name": "spylon-kernel"
  },
  "language_info": {
   "codemirror_mode": "text/x-scala",
   "file_extension": ".scala",
   "help_links": [
    {
     "text": "MetaKernel Magics",
     "url": "https://metakernel.readthedocs.io/en/latest/source/README.html"
    }
   ],
   "mimetype": "text/x-scala",
   "name": "scala",
   "pygments_lexer": "scala",
   "version": "0.4.1"
  }
 },
 "nbformat": 4,
 "nbformat_minor": 5
}
