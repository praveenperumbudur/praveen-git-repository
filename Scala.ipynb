{
 "cells": [
  {
   "cell_type": "code",
   "execution_count": 1,
   "id": "51984695-f1f8-4eb2-9128-280715e56864",
   "metadata": {},
   "outputs": [
    {
     "data": {
      "text/plain": [
       "Intitializing Scala interpreter ..."
      ]
     },
     "metadata": {},
     "output_type": "display_data"
    },
    {
     "data": {
      "text/plain": [
       "Spark Web UI available at http://172.19.48.221:4042\n",
       "SparkContext available as 'sc' (version = 3.5.2, master = local[*], app id = local-1725596329842)\n",
       "SparkSession available as 'spark'\n"
      ]
     },
     "metadata": {},
     "output_type": "display_data"
    },
    {
     "data": {
      "text/plain": [
       "x: Int = 2\r\n",
       "y: Int = 3\r\n",
       "res0: Int = 6\r\n"
      ]
     },
     "execution_count": 1,
     "metadata": {},
     "output_type": "execute_result"
    }
   ],
   "source": [
    "val x =2\n",
    "val y = 3\n",
    "x*y"
   ]
  },
  {
   "cell_type": "code",
   "execution_count": 2,
   "id": "4f34190b-2620-46ec-b994-74e2689903cd",
   "metadata": {},
   "outputs": [
    {
     "name": "stdout",
     "output_type": "stream",
     "text": [
      "Hello World\n"
     ]
    }
   ],
   "source": [
    "println(\"Hello World\")"
   ]
  },
  {
   "cell_type": "code",
   "execution_count": null,
   "id": "fc40a21a-705b-4d07-93fb-896524478fc1",
   "metadata": {},
   "outputs": [],
   "source": [
    "/*\n",
    "Scala is case sensitive\n",
    "ClassName in scala follows the pascal casing - OfficeAddress\n",
    "MethodNames in scala follows the camel casing - getOfficeAddress()\n",
    "Program file name it should match the object name\n",
    "Identifiers start with a letter or an underscore which can be followed by further letters,digits or underscores.\n",
    "The $ word is the reversed word is scala and should not be used as identifiers\n",
    "for eg: dob, _value, _1_age\n",
    "\n",
    "*/"
   ]
  },
  {
   "cell_type": "code",
   "execution_count": 3,
   "id": "e08f835e-2279-4181-a874-d5917b8dc57a",
   "metadata": {},
   "outputs": [
    {
     "name": "stdout",
     "output_type": "stream",
     "text": [
      "Good Morning\n"
     ]
    },
    {
     "data": {
      "text/plain": [
       "msg: String = Good Morning\r\n"
      ]
     },
     "execution_count": 3,
     "metadata": {},
     "output_type": "execute_result"
    }
   ],
   "source": [
    "val msg = \"Good Morning\"\n",
    "println(msg)"
   ]
  },
  {
   "cell_type": "code",
   "execution_count": 5,
   "id": "08cbefa6-9970-49ec-9f4e-a4babe4a6cbb",
   "metadata": {},
   "outputs": [],
   "source": [
    "//Datatype in scala\n",
    "/*\n",
    "Byte, Short, Int, Long, Float, Double, char, String, Boolean,Unit, Null, Nothing, Any, Anyref\n",
    "*/"
   ]
  },
  {
   "cell_type": "code",
   "execution_count": 6,
   "id": "1b151c24-e3dc-4cfc-9a4e-68ab5d7e8e7f",
   "metadata": {},
   "outputs": [
    {
     "data": {
      "text/plain": [
       "firstName: String = Praveen\r\n"
      ]
     },
     "execution_count": 6,
     "metadata": {},
     "output_type": "execute_result"
    }
   ],
   "source": [
    "var firstName: String = \"Praveen\""
   ]
  },
  {
   "cell_type": "code",
   "execution_count": 7,
   "id": "b0c0f682-f2fc-486e-835b-b205b99459f6",
   "metadata": {},
   "outputs": [
    {
     "data": {
      "text/plain": [
       "LastName: String = Perumbudur\r\n"
      ]
     },
     "execution_count": 7,
     "metadata": {},
     "output_type": "execute_result"
    }
   ],
   "source": [
    "val LastName: String = \"Perumbudur\""
   ]
  },
  {
   "cell_type": "code",
   "execution_count": 8,
   "id": "f8701718-6cc4-4123-9519-e7dd9ce1845b",
   "metadata": {},
   "outputs": [
    {
     "data": {
      "text/plain": [
       "num: Int = 19\r\n",
       "name: String = Praveen Perumbudur\r\n"
      ]
     },
     "execution_count": 8,
     "metadata": {},
     "output_type": "execute_result"
    }
   ],
   "source": [
    "var num = 19\n",
    "val name = \"Praveen Perumbudur\""
   ]
  },
  {
   "cell_type": "code",
   "execution_count": 9,
   "id": "4a1f5ff4-42a7-4764-9885-3d553f389ea7",
   "metadata": {},
   "outputs": [
    {
     "data": {
      "text/plain": [
       "name: String = Praveen\r\n",
       "age: Int = 26\r\n"
      ]
     },
     "execution_count": 9,
     "metadata": {},
     "output_type": "execute_result"
    }
   ],
   "source": [
    "var (name,age) = Pair(\"Praveen\", 26)"
   ]
  },
  {
   "cell_type": "code",
   "execution_count": 11,
   "id": "ed5378f8-aa3b-43e1-84e9-3f69e6d9d990",
   "metadata": {},
   "outputs": [
    {
     "name": "stdout",
     "output_type": "stream",
     "text": [
      "Addition of : 1010 = 20\n"
     ]
    },
    {
     "data": {
      "text/plain": [
       "defined class Caluculator\r\n",
       "c: Caluculator = Caluculator@322b1c0f\r\n"
      ]
     },
     "execution_count": 11,
     "metadata": {},
     "output_type": "execute_result"
    }
   ],
   "source": [
    "class Caluculator(num1:Int, num2:Int){\n",
    "    var num_1:Int = num1\n",
    "    var num_2:Int = num2\n",
    "\n",
    "    def add(x:Int, y:Int){\n",
    "        var result = x+y;\n",
    "        println(\"Addition of : \"+ x + y +\" = \" + result)\n",
    "    }\n",
    "}\n",
    "\n",
    "val c = new Caluculator(10,20)\n",
    "c.add(10,10)"
   ]
  },
  {
   "cell_type": "code",
   "execution_count": 12,
   "id": "7e1522a0-f2c3-4c95-bef1-b63774cda95c",
   "metadata": {},
   "outputs": [
    {
     "name": "stdout",
     "output_type": "stream",
     "text": [
      "Address - 8-399 Hyderabad Madhapur  500072\n"
     ]
    },
    {
     "data": {
      "text/plain": [
       "defined class Address\r\n",
       "defined class Company\r\n",
       "addr: Address = Address@719087e\r\n"
      ]
     },
     "execution_count": 12,
     "metadata": {},
     "output_type": "execute_result"
    }
   ],
   "source": [
    "class Address (val street : String ,val state :String  ,val pincode : Long) {\n",
    "    val st= street\n",
    "    val states = state \n",
    "    val zipcode = pincode\n",
    "    def getAddress (city :String) {\n",
    "        val address = st + \" \" + city + \" \" + state + \"  \" + zipcode\n",
    "        println(\"Address - \" + address)\n",
    "        \n",
    "    }\n",
    "}\n",
    "\n",
    "class Company(override val street:String, override val state:String,override val pincode:Long, val cname :String) extends Address(street, state, pincode){\n",
    "    var companyname : String = cname\n",
    "    \n",
    "    override   def getAddress (city :String) {\n",
    "        val address = st + \" \" + city + \" \" + state + \"  \" + zipcode\n",
    "        println(\"Company - \" + cname + \" Address - \" + address)\n",
    "    }\n",
    "}\n",
    "\n",
    "var addr = new Address (\"8-399\",\"Madhapur\",500072)\n",
    "addr.getAddress (\"Hyderabad\")"
   ]
  },
  {
   "cell_type": "code",
   "execution_count": 13,
   "id": "2b84b46a-babe-4198-8c6f-bf05632c2e06",
   "metadata": {},
   "outputs": [
    {
     "name": "stdout",
     "output_type": "stream",
     "text": [
      "Eligible to vote\n"
     ]
    },
    {
     "data": {
      "text/plain": [
       "yob: Int = 1979\r\n",
       "age: Int = 45\r\n"
      ]
     },
     "execution_count": 13,
     "metadata": {},
     "output_type": "execute_result"
    }
   ],
   "source": [
    "var yob =1979\n",
    "age =2024 -yob\n",
    "if (age >18) \n",
    "{ println(\"Eligible to vote\")\n",
    "}\n",
    "else\n",
    "{ println (\"Not Eligible for vote\")}"
   ]
  },
  {
   "cell_type": "code",
   "execution_count": 14,
   "id": "09449a21-4946-40f0-99f9-9c3c31120b9c",
   "metadata": {},
   "outputs": [
    {
     "name": "stdout",
     "output_type": "stream",
     "text": [
      " Fail \n"
     ]
    },
    {
     "data": {
      "text/plain": [
       "total_marks: Int = 100\r\n",
       "per: Int = 33\r\n"
      ]
     },
     "execution_count": 14,
     "metadata": {},
     "output_type": "execute_result"
    }
   ],
   "source": [
    "var total_marks =100\n",
    "var per = 100 * total_marks/300\n",
    "if (per >75) {\n",
    "println(\"distinction\") }\n",
    "else if (per >=60 && per <75)\n",
    "{ println(\"First Class\")}\n",
    "else if (per >=50 && per <60)\n",
    "{ println(\"second Class\")}\n",
    "else if (per >=35 && per <50)\n",
    "{ println(\"Third Class\")}\n",
    "else { println(\" Fail \")}"
   ]
  },
  {
   "cell_type": "code",
   "execution_count": 15,
   "id": "05fe86f6-4964-4c9b-a981-770beb2ef774",
   "metadata": {},
   "outputs": [
    {
     "name": "stdout",
     "output_type": "stream",
     "text": [
      "1\n"
     ]
    },
    {
     "data": {
      "text/plain": [
       "factof: Int = 6\r\n",
       "fact: Int = 1\r\n"
      ]
     },
     "execution_count": 15,
     "metadata": {},
     "output_type": "execute_result"
    }
   ],
   "source": [
    "var factof : Int = 6\n",
    "var fact = 1\n",
    "while(factof < 1){\n",
    "    fact = fact*factof\n",
    "    factof = factof - 1\n",
    "}\n",
    "println(fact)"
   ]
  },
  {
   "cell_type": "code",
   "execution_count": 16,
   "id": "9c8881f0-c25f-49e0-8a23-b38d1ccd9295",
   "metadata": {},
   "outputs": [
    {
     "name": "stdout",
     "output_type": "stream",
     "text": [
      "The sum of all the given numbers is: 75\n"
     ]
    },
    {
     "data": {
      "text/plain": [
       "numbers: Array[Int] = Array(5, 10, 15, 20, 25)\r\n",
       "totalSum: Int = 75\r\n"
      ]
     },
     "execution_count": 16,
     "metadata": {},
     "output_type": "execute_result"
    }
   ],
   "source": [
    "// Example array of numbers\n",
    "val numbers = Array(5, 10, 15, 20, 25)\n",
    "\n",
    "// Variable to store the sum\n",
    "var totalSum = 0\n",
    "\n",
    "// Using for loop to calculate the sum\n",
    "for (number <- numbers) {\n",
    "  totalSum += number\n",
    "}\n",
    "\n",
    "// Output the result\n",
    "println(s\"The sum of all the given numbers is: $totalSum\")"
   ]
  },
  {
   "cell_type": "code",
   "execution_count": 17,
   "id": "5688ebd4-5ac4-45d8-98ea-d505dc4da323",
   "metadata": {},
   "outputs": [
    {
     "name": "stdout",
     "output_type": "stream",
     "text": [
      "multipler(2) value = 20\n",
      "multipler(149) value = 1490\n"
     ]
    },
    {
     "data": {
      "text/plain": [
       "num: Int = 10\r\n",
       "multiplier: Int => Int = $Lambda/0x000001bb81a40668@76d2ae00\r\n"
      ]
     },
     "execution_count": 17,
     "metadata": {},
     "output_type": "execute_result"
    }
   ],
   "source": [
    "/* Closures - It is a function whose return value depends on the value of one or more variables declared outside this function\n",
    "\n",
    "*/\n",
    "var num = 10\n",
    "var multiplier = (i:Int) => i*num\n",
    "println(\"multipler(2) value = \"+ multiplier(2))\n",
    "println(\"multipler(149) value = \"+ multiplier(149))"
   ]
  },
  {
   "cell_type": "code",
   "execution_count": 19,
   "id": "2092a7f7-6bda-4132-a42b-af2c6d96752b",
   "metadata": {},
   "outputs": [
    {
     "name": "stdout",
     "output_type": "stream",
     "text": [
      "lenght of msg 14\n",
      "fullname: PraveenPerumbudur\n"
     ]
    },
    {
     "data": {
      "text/plain": [
       "msg: String = Good Afternoon\r\n",
       "fname: String = Praveen\r\n",
       "lname: String = Perumbudur\r\n",
       "fullname: String = PraveenPerumbudur\r\n"
      ]
     },
     "execution_count": 19,
     "metadata": {},
     "output_type": "execute_result"
    }
   ],
   "source": [
    "var msg = \"Good Afternoon\"\n",
    "println(\"lenght of msg \" + msg.length())\n",
    "var fname = \"Praveen\"\n",
    "var lname = \"Perumbudur\"\n",
    "var fullname = fname.concat(lname)\n",
    "println(\"fullname: \" + fullname)"
   ]
  },
  {
   "cell_type": "code",
   "execution_count": 20,
   "id": "42bcd919-4eca-472e-b162-d2602dce219a",
   "metadata": {},
   "outputs": [
    {
     "name": "stdout",
     "output_type": "stream",
     "text": [
      "(%s is having age of %dheight of %f,praveen,26,5.6)\n"
     ]
    },
    {
     "data": {
      "text/plain": [
       "height: Double = 5.6\r\n",
       "age: Int = 26\r\n",
       "fname: String = praveen\r\n",
       "fs: Unit = ()\r\n"
      ]
     },
     "execution_count": 20,
     "metadata": {},
     "output_type": "execute_result"
    }
   ],
   "source": [
    "var height =5.6\n",
    "var age = 26\n",
    "var fname = \"praveen\"\n",
    "var fs = println(\"%s\" + \" is having age of %d\" + \"height of %f\", fname, age, height)"
   ]
  },
  {
   "cell_type": "code",
   "execution_count": null,
   "id": "d9e03d7e-981b-4fc7-ac1e-e5fbe02d7a2e",
   "metadata": {},
   "outputs": [],
   "source": []
  }
 ],
 "metadata": {
  "kernelspec": {
   "display_name": "spylon-kernel",
   "language": "scala",
   "name": "spylon-kernel"
  },
  "language_info": {
   "codemirror_mode": "text/x-scala",
   "file_extension": ".scala",
   "help_links": [
    {
     "text": "MetaKernel Magics",
     "url": "https://metakernel.readthedocs.io/en/latest/source/README.html"
    }
   ],
   "mimetype": "text/x-scala",
   "name": "scala",
   "pygments_lexer": "scala",
   "version": "0.4.1"
  }
 },
 "nbformat": 4,
 "nbformat_minor": 5
}
